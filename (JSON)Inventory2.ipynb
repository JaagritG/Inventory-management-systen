{
  "nbformat": 4,
  "nbformat_minor": 0,
  "metadata": {
    "colab": {
      "name": "(JSON)Inventory2.ipynb",
      "provenance": [],
      "collapsed_sections": [],
      "toc_visible": true
    },
    "kernelspec": {
      "name": "python3",
      "display_name": "Python 3"
    },
    "language_info": {
      "name": "python"
    }
  },
  "cells": [
    {
      "cell_type": "code",
      "metadata": {
        "id": "UtLU56jOYuRy"
      },
      "source": [
        "import json"
      ],
      "execution_count": null,
      "outputs": []
    },
    {
      "cell_type": "markdown",
      "metadata": {
        "id": "p8B-l52cyUyb"
      },
      "source": [
        "#NOTE\n",
        "\n",
        "Reading comments is essential to get passwords to access many features, please read them"
      ]
    },
    {
      "cell_type": "code",
      "metadata": {
        "id": "7WGPihTMRpnn"
      },
      "source": [
        "with open('realrecord.json') as realrecord:\n",
        "  record = json.load(realrecord)"
      ],
      "execution_count": null,
      "outputs": []
    },
    {
      "cell_type": "code",
      "metadata": {
        "colab": {
          "base_uri": "https://localhost:8080/"
        },
        "id": "vj4afTkWS563",
        "outputId": "cf18bfb2-4fa8-4b64-d228-e8341315641c"
      },
      "source": [
        "record|"
      ],
      "execution_count": null,
      "outputs": [
        {
          "output_type": "execute_result",
          "data": {
            "text/plain": [
              "{'1001': {'name': 'Choco Cake', 'pr': 100, 'qn': 33},\n",
              " '1002': {'name': 'Milk Cake', 'pr': 800, 'qn': 100},\n",
              " '1003': {'name': 'Drink', 'pr': 85, 'qn': 100},\n",
              " '1004': {'name': 'Candy', 'pr': 5, 'qn': 1000},\n",
              " '1005': {'name': 'Pen', 'pr': 20, 'qn': 100},\n",
              " '1006': {'name': 'Phone', 'pr': 50000, 'qn': 10},\n",
              " '1007': {'name': 'Mic', 'pr': 1500, 'qn': 0},\n",
              " '1008': {'name': 'Case', 'pr': 599, 'qn': 5},\n",
              " '1009': {'name': 'Keyboard', 'pr': 1999, 'qn': 10}}"
            ]
          },
          "metadata": {},
          "execution_count": 38
        }
      ]
    },
    {
      "cell_type": "code",
      "metadata": {
        "id": "6Snhr-MKh5R2"
      },
      "source": [
        "with open('sales.json') as sales:\n",
        "  salesfigures = json.load(sales)"
      ],
      "execution_count": 52,
      "outputs": []
    },
    {
      "cell_type": "code",
      "metadata": {
        "id": "4JzNIz8TTMlj"
      },
      "source": [
        "js = json.dumps(record)\n",
        "sale = json.dumps(salesfigures)"
      ],
      "execution_count": 53,
      "outputs": []
    },
    {
      "cell_type": "code",
      "metadata": {
        "colab": {
          "base_uri": "https://localhost:8080/",
          "height": 105
        },
        "id": "N-BZkOKcTPrn",
        "outputId": "6d3ee59e-2f60-4de1-c3bd-e3fcfe7ffcf8"
      },
      "source": [
        "js"
      ],
      "execution_count": 54,
      "outputs": [
        {
          "output_type": "execute_result",
          "data": {
            "application/vnd.google.colaboratory.intrinsic+json": {
              "type": "string"
            },
            "text/plain": [
              "'{\"1001\": {\"name\": \"Choco Cake\", \"qn\": 33, \"pr\": 100}, \"1002\": {\"name\": \"Milk Cake\", \"pr\": 800, \"qn\": 100}, \"1003\": {\"name\": \"Drink\", \"pr\": 85, \"qn\": 100}, \"1004\": {\"name\": \"Candy\", \"pr\": 5, \"qn\": 1000}, \"1005\": {\"name\": \"Pen\", \"pr\": 20, \"qn\": 100}, \"1006\": {\"name\": \"Phone\", \"pr\": 50000, \"qn\": 10}, \"1007\": {\"name\": \"Mic\", \"pr\": 1500, \"qn\": 0}, \"1008\": {\"name\": \"Case\", \"pr\": 599, \"qn\": 5}, \"1009\": {\"name\": \"Keyboard\", \"pr\": 1999, \"qn\": 10}}'"
            ]
          },
          "metadata": {},
          "execution_count": 54
        }
      ]
    },
    {
      "cell_type": "code",
      "metadata": {
        "colab": {
          "base_uri": "https://localhost:8080/",
          "height": 105
        },
        "id": "aWxFZjIWiHaX",
        "outputId": "42509857-2a57-446b-fac3-eaa005f4f997"
      },
      "source": [
        "sale"
      ],
      "execution_count": 55,
      "outputs": [
        {
          "output_type": "execute_result",
          "data": {
            "application/vnd.google.colaboratory.intrinsic+json": {
              "type": "string"
            },
            "text/plain": [
              "'{\"1001\": {\"name\": \"Choco Cake\", \"qn\": 33, \"pr\": 100}, \"1002\": {\"name\": \"Milk Cake\", \"pr\": 800, \"qn\": 100}, \"1003\": {\"name\": \"Drink\", \"pr\": 85, \"qn\": 100}, \"1004\": {\"name\": \"Candy\", \"pr\": 5, \"qn\": 1000}, \"1005\": {\"name\": \"Pen\", \"pr\": 20, \"qn\": 100}, \"1006\": {\"name\": \"Phone\", \"pr\": 50000, \"qn\": 10}, \"1007\": {\"name\": \"Mic\", \"pr\": 1500, \"qn\": 0}, \"1008\": {\"name\": \"Case\", \"pr\": 599, \"qn\": 5}, \"1009\": {\"name\": \"Keyboard\", \"pr\": 1999, \"qn\": 10}}'"
            ]
          },
          "metadata": {},
          "execution_count": 55
        }
      ]
    },
    {
      "cell_type": "markdown",
      "metadata": {
        "id": "YIsKYvcux_sZ"
      },
      "source": [
        "#Your name"
      ]
    },
    {
      "cell_type": "code",
      "metadata": {
        "colab": {
          "base_uri": "https://localhost:8080/"
        },
        "id": "dwsPmPuJyCNE",
        "outputId": "9245b585-97e2-4c1a-b4ef-47a96743649b"
      },
      "source": [
        "# Enter Jaagrit to get owner permissions\n",
        "name = input('Please enter your name ')"
      ],
      "execution_count": null,
      "outputs": [
        {
          "name": "stdout",
          "output_type": "stream",
          "text": [
            "Please enter your name Jaagrit\n"
          ]
        }
      ]
    },
    {
      "cell_type": "markdown",
      "metadata": {
        "id": "y0Nkbqgrt6b9"
      },
      "source": [
        "#Your position"
      ]
    },
    {
      "cell_type": "code",
      "metadata": {
        "colab": {
          "base_uri": "https://localhost:8080/"
        },
        "id": "hexGKHR-uLgY",
        "outputId": "4a97409a-1a5f-4607-a9ae-b972c426c1f5"
      },
      "source": [
        "# Employee code - 99\n",
        "# Owner password - 999\n",
        "# Yes 9 is my favourite number :)\n",
        "\n",
        "password = 0\n",
        "code = 0\n",
        "\n",
        "if(name == 'Jaagrit'):\n",
        "\n",
        "  rank = 2\n",
        "  password = int(input('Enter the Password '))\n",
        "\n",
        "  if(password == 999):\n",
        "    print('Welcome Back sir ')\n",
        "\n",
        "  else:\n",
        "    rank = -1\n",
        "    print('The owner has been alerted of a potential attempt at fraud, our systems will break to prevent access by unauthorized personnel')\n",
        "\n",
        "\n",
        "else:\n",
        "  rank = int(input(\"Enter 1 if you're an employee and 0 if you're a customer \"))\n",
        "\n",
        "  if(rank == 1):\n",
        "    code = int(input('Enter your employee code '))\n",
        "\n",
        "    if(code == 99):\n",
        "      print('Thanks for singning in ')\n",
        "\n",
        "    else:\n",
        "      rank = 0\n",
        "      print('Please try again or proceed as a customer ')\n",
        "\n",
        "  elif(rank == 0):\n",
        "    print('Thank you for shopping with us you may proceed ')\n",
        "\n",
        "  else:\n",
        "   print('Error, please try again ')\n",
        "   rank = 0\n",
        "del password\n",
        "del code"
      ],
      "execution_count": null,
      "outputs": [
        {
          "output_type": "stream",
          "name": "stdout",
          "text": [
            "Enter the Password 999\n",
            "Welcome Back sir \n"
          ]
        }
      ]
    },
    {
      "cell_type": "markdown",
      "metadata": {
        "id": "qXyxOqn_sVSK"
      },
      "source": [
        "#Adding new items"
      ]
    },
    {
      "cell_type": "code",
      "metadata": {
        "colab": {
          "base_uri": "https://localhost:8080/"
        },
        "id": "uFhlNLjtoqrZ",
        "outputId": "63f1d067-7927-4682-9814-a7c0c5a9925e"
      },
      "source": [
        "if(rank >= 1):\n",
        "  prod_id = str(input(\"Enter product id:\"))\n",
        "  prod_name = str(input(\"Enter name of product:\"))\n",
        "  pr = int(input(\"Enter price:\"))\n",
        "  qn = int(input(\"Enter quantity:\"))\n",
        "\n",
        "  \n",
        "  js = json.dumps(record)\n",
        "\n",
        "  fd = open(\"realrecord.json\",'w')\n",
        "  fd.write(js)\n",
        "  fd.close()\n",
        "\n",
        "elif(rank == -1):\n",
        "  print('System broken')\n",
        "\n",
        "else:\n",
        "  print('Sorry but you cannot add items to our inventory, you may buy items however.')"
      ],
      "execution_count": null,
      "outputs": [
        {
          "name": "stdout",
          "output_type": "stream",
          "text": [
            "Enter product id:1100\n",
            "Enter name of product:Jaa\n",
            "Enter price:999\n",
            "Enter quantity:199\n"
          ]
        }
      ]
    },
    {
      "cell_type": "markdown",
      "metadata": {
        "id": "gMi4Os83sZpz"
      },
      "source": [
        "#Deleting incorrect items"
      ]
    },
    {
      "cell_type": "code",
      "metadata": {
        "colab": {
          "base_uri": "https://localhost:8080/"
        },
        "id": "DVAFkXV9qFPc",
        "outputId": "b192eb81-f64c-49b2-e569-cf7537aa4d20"
      },
      "source": [
        "if(rank >= 1):\n",
        "  del_number = input('Enter product number to be deleted, this cannot be undone')\n",
        "  del record[del_number]\n",
        "  \n",
        "  js = json.dumps(record)\n",
        "\n",
        "  fd = open(\"realrecord.json\",'w')\n",
        "  fd.write(js)\n",
        "  fd.close()\n",
        "  print('Done, item number ' + del_number + ' has been deleted')\n",
        "\n",
        "elif(rank == -1):\n",
        "  print('System broken')\n",
        "\n",
        "else:\n",
        "  print('Sorry but you cannot delete items from our inventory, you may buy items however.')"
      ],
      "execution_count": null,
      "outputs": [
        {
          "output_type": "stream",
          "name": "stdout",
          "text": [
            "Enter product number to be deleted, this cannot be undone1100\n",
            "Done, item number 1100 has been deleted\n"
          ]
        }
      ]
    },
    {
      "cell_type": "markdown",
      "metadata": {
        "id": "N2gAbpjhsi2t"
      },
      "source": [
        "#See the list of items"
      ]
    },
    {
      "cell_type": "code",
      "metadata": {
        "id": "xvpm87IoD4Wa"
      },
      "source": [
        "keys = record.keys()\n",
        "if(rank >= 1):\n",
        "  print(record)\n",
        "else:\n",
        "  for i in keys:\n",
        "    if(record[i]['qn'] == 0):\n",
        "      print(record[i]['name'] + '(out of stock)')\n",
        "    else:\n",
        "      print(record[i]['name'])"
      ],
      "execution_count": null,
      "outputs": []
    },
    {
      "cell_type": "markdown",
      "metadata": {
        "id": "N18CZZJcF5hS"
      },
      "source": [
        "#Buy an item"
      ]
    },
    {
      "cell_type": "code",
      "metadata": {
        "id": "ZkaRpLvYqOVd",
        "colab": {
          "base_uri": "https://localhost:8080/",
          "height": 0
        },
        "outputId": "825faafa-3044-406c-eaf1-3f2dd67403a1"
      },
      "source": [
        "ui_prod  = str(input(\"Enter the product_Id: \"))\n",
        "ui_quant = int(input(\"Enter the quantity: \"))\n",
        "ui_id =    int(input(\"Enter your order number (must not be preciously used) \"))\n",
        "\n",
        "if(ui_quant == 0):\n",
        "  print('You cannot buy 0 amount of something')\n",
        "\n",
        "elif(ui_id in salesfigures):\n",
        "  print('ID already in use, please try again')\n",
        "\n",
        "elif(ui_prod in record):\n",
        "  if(record[ui_prod]['qn'] - ui_quant < 0):\n",
        "    print(\"We have less than \" + str(ui_quant) + \" of item number \" + ui_prod + \" remaining, shall we give you as much as we have?\")\n",
        "    yeahOrNah = int(input('Enter 1 for yes and 0 for no'))\n",
        "\n",
        "    if(yeahOrNah == 1):\n",
        "\n",
        "      salesfigures[ui_id] = {'prod': ui_prod, 'qn': record[ui_prod]['qn'], 'amount': record[ui_prod]['pr'] * record[ui_prod]['qn']}\n",
        "\n",
        "      print(\"Great!\")\n",
        "      print(\"Product: \", record[ui_prod]['name'])\n",
        "      print(\"Price: \", record[ui_prod]['pr'])\n",
        "      print(\"Billing Amount: \", record[ui_prod]['pr'] * record[ui_prod]['qn'])\n",
        "      record[ui_prod]['qn'] = 0\n",
        "\n",
        "    else:\n",
        "      print('Ok, we have cancelled your purchase')\n",
        "\n",
        "  else:\n",
        "    print(\"Product: \", record[ui_prod]['name'])\n",
        "    print(\"Price: \", record[ui_prod]['pr'])\n",
        "    print(\"Billing Amount: \", record[ui_prod]['pr'] * ui_quant)\n",
        "  \n",
        "    record[ui_prod]['qn'] = record[ui_prod]['qn'] - ui_quant\n",
        "    salesfigures[ui_id] = {'prod': ui_prod, 'qn': ui_quant, 'amount': record[ui_prod]['pr'] * ui_quant}\n",
        "\n",
        "\n",
        "else:\n",
        "  print('Sorry, item does not exist')  \n",
        "\n",
        "js = json.dumps(record)\n",
        "sale = json.dumps(salesfigures)\n",
        "\n",
        "fd = open(\"realrecord.json\",'w')\n",
        "fd.write(js)\n",
        "fd.close()\n",
        "\n",
        "sa = open(\"sales.json\",'w')\n",
        "sa.write(sale)\n",
        "sa.close()"
      ],
      "execution_count": 65,
      "outputs": [
        {
          "output_type": "stream",
          "name": "stdout",
          "text": [
            "Enter the product_Id: 1002\n",
            "Enter the quantity: 1\n",
            "Enter your order number (must not be preciously used) 2\n",
            "Product:  Milk Cake\n",
            "Price:  800\n",
            "Billing Amount:  800\n"
          ]
        }
      ]
    },
    {
      "cell_type": "code",
      "metadata": {
        "colab": {
          "base_uri": "https://localhost:8080/",
          "height": 35
        },
        "id": "BX4eHCj_mzoJ",
        "outputId": "566a9621-e388-4e38-e12b-cb8f2d9b230a"
      },
      "source": [
        "sale"
      ],
      "execution_count": 66,
      "outputs": [
        {
          "output_type": "execute_result",
          "data": {
            "application/vnd.google.colaboratory.intrinsic+json": {
              "type": "string"
            },
            "text/plain": [
              "'{\"1\": {\"prod\": \"test\", \"qn\": 0, \"amount\": 0}, \"2\": {\"prod\": \"1002\", \"qn\": 1, \"amount\": 800}}'"
            ]
          },
          "metadata": {},
          "execution_count": 66
        }
      ]
    },
    {
      "cell_type": "markdown",
      "metadata": {
        "id": "hdFuhkSfiPqF"
      },
      "source": [
        "#See sales"
      ]
    },
    {
      "cell_type": "code",
      "metadata": {
        "id": "cmoDUTBirLnc",
        "colab": {
          "base_uri": "https://localhost:8080/",
          "height": 0
        },
        "outputId": "21ff335f-c1ce-4ad9-980b-1ff1e812c972"
      },
      "source": [
        "if(rank > 1):\n",
        "  print(salesfigures)\n",
        "\n",
        "elif(rank < 0):\n",
        "  print('Systems broken')\n",
        "else:\n",
        "  print('Sorry, you are not allowed to see our sales')\n"
      ],
      "execution_count": 68,
      "outputs": [
        {
          "output_type": "stream",
          "name": "stdout",
          "text": [
            "{1: {'prod': 'test', 'qn': 0, 'amount': 0}, 2: {'prod': '1002', 'qn': 1, 'amount': 800}}\n"
          ]
        }
      ]
    }
  ]
}